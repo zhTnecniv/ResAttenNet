{
 "cells": [
  {
   "cell_type": "code",
   "execution_count": 1,
   "metadata": {},
   "outputs": [],
   "source": [
    "from tensorflow.keras.utils import to_categorical\n",
    "from tensorflow.keras.datasets import cifar10\n",
    "from tensorflow.keras.optimizers import Adam\n",
    "from tensorflow.keras.callbacks import ModelCheckpoint, ReduceLROnPlateau\n",
    "from tensorflow.keras.preprocessing.image import ImageDataGenerator\n",
    "from sklearn.model_selection import train_test_split\n",
    "from models import residualAttention128\n",
    "import pandas as pd\n",
    "from utils import plot_training_hist"
   ]
  },
  {
   "cell_type": "code",
   "execution_count": 2,
   "metadata": {},
   "outputs": [],
   "source": [
    "(x_train_10, y_train_10), (x_test_10, y_test_10) = cifar10.load_data()\n",
    "y_train_10 = to_categorical(y_train_10, 10)\n",
    "y_test_10 = to_categorical(y_test_10, 10)\n",
    "x_train_10, x_vali_10, y_train_10, y_vali_10 = train_test_split(x_train_10, y_train_10, test_size=0.05, random_state=42)"
   ]
  },
  {
   "cell_type": "markdown",
   "metadata": {},
   "source": [
    "## Residual Attention Network 128 (Attention-128)"
   ]
  },
  {
   "cell_type": "code",
   "execution_count": 3,
   "metadata": {},
   "outputs": [],
   "source": [
    "model128 = residualAttention128()"
   ]
  },
  {
   "cell_type": "code",
   "execution_count": 4,
   "metadata": {},
   "outputs": [
    {
     "data": {
      "text/plain": [
       "50868170"
      ]
     },
     "execution_count": 4,
     "metadata": {},
     "output_type": "execute_result"
    }
   ],
   "source": [
    "model128.count_params()"
   ]
  },
  {
   "cell_type": "code",
   "execution_count": 10,
   "metadata": {},
   "outputs": [
    {
     "name": "stdout",
     "output_type": "stream",
     "text": [
      "Epoch 1/100\n",
      "743/742 [==============================] - 327s 441ms/step - loss: 8.2838 - categorical_accuracy: 0.3688 - val_loss: 2.1592 - val_categorical_accuracy: 0.4392\n",
      "Epoch 2/100\n",
      "743/742 [==============================] - 328s 442ms/step - loss: 2.0007 - categorical_accuracy: 0.4378 - val_loss: 1.8225 - val_categorical_accuracy: 0.4708\n",
      "Epoch 3/100\n",
      "743/742 [==============================] - 319s 429ms/step - loss: 1.6722 - categorical_accuracy: 0.4787 - val_loss: 1.9453 - val_categorical_accuracy: 0.4480\n",
      "Epoch 4/100\n",
      "743/742 [==============================] - 327s 440ms/step - loss: 1.5797 - categorical_accuracy: 0.4957 - val_loss: 1.5360 - val_categorical_accuracy: 0.5092\n",
      "Epoch 5/100\n",
      "743/742 [==============================] - 319s 429ms/step - loss: 1.5508 - categorical_accuracy: 0.5052 - val_loss: 1.6061 - val_categorical_accuracy: 0.5176\n",
      "Epoch 6/100\n",
      "743/742 [==============================] - 326s 439ms/step - loss: 1.4698 - categorical_accuracy: 0.5231 - val_loss: 1.4249 - val_categorical_accuracy: 0.5492\n",
      "Epoch 7/100\n",
      "743/742 [==============================] - 326s 439ms/step - loss: 1.3636 - categorical_accuracy: 0.5486 - val_loss: 1.1293 - val_categorical_accuracy: 0.6188\n",
      "Epoch 8/100\n",
      "743/742 [==============================] - 319s 429ms/step - loss: 1.2484 - categorical_accuracy: 0.5811 - val_loss: 1.2170 - val_categorical_accuracy: 0.6088\n",
      "Epoch 9/100\n",
      "743/742 [==============================] - 318s 428ms/step - loss: 1.1742 - categorical_accuracy: 0.5986 - val_loss: 1.2995 - val_categorical_accuracy: 0.5952\n",
      "Epoch 10/100\n",
      "743/742 [==============================] - 326s 439ms/step - loss: 1.1173 - categorical_accuracy: 0.6189 - val_loss: 0.9522 - val_categorical_accuracy: 0.6792\n",
      "Epoch 11/100\n",
      "743/742 [==============================] - 318s 428ms/step - loss: 1.0528 - categorical_accuracy: 0.6385 - val_loss: 0.9898 - val_categorical_accuracy: 0.6660\n",
      "Epoch 12/100\n",
      "743/742 [==============================] - 326s 439ms/step - loss: 1.0185 - categorical_accuracy: 0.6490 - val_loss: 0.9366 - val_categorical_accuracy: 0.6940\n",
      "Epoch 13/100\n",
      "743/742 [==============================] - 326s 439ms/step - loss: 0.9807 - categorical_accuracy: 0.6644 - val_loss: 0.8848 - val_categorical_accuracy: 0.6884\n",
      "Epoch 14/100\n",
      "743/742 [==============================] - 318s 428ms/step - loss: 0.9232 - categorical_accuracy: 0.6815 - val_loss: 1.3056 - val_categorical_accuracy: 0.6100\n",
      "Epoch 15/100\n",
      "743/742 [==============================] - 326s 439ms/step - loss: 0.8752 - categorical_accuracy: 0.6975 - val_loss: 0.8230 - val_categorical_accuracy: 0.7192\n",
      "Epoch 16/100\n",
      "743/742 [==============================] - 326s 438ms/step - loss: 0.8352 - categorical_accuracy: 0.7127 - val_loss: 0.7873 - val_categorical_accuracy: 0.7260\n",
      "Epoch 17/100\n",
      "743/742 [==============================] - 326s 438ms/step - loss: 0.7922 - categorical_accuracy: 0.7286 - val_loss: 0.7487 - val_categorical_accuracy: 0.7556\n",
      "Epoch 18/100\n",
      "743/742 [==============================] - 318s 428ms/step - loss: 0.7549 - categorical_accuracy: 0.7414 - val_loss: 0.8515 - val_categorical_accuracy: 0.7196\n",
      "Epoch 19/100\n",
      "743/742 [==============================] - 326s 438ms/step - loss: 0.7235 - categorical_accuracy: 0.7536 - val_loss: 0.7140 - val_categorical_accuracy: 0.7652\n",
      "Epoch 20/100\n",
      "743/742 [==============================] - 325s 438ms/step - loss: 0.6921 - categorical_accuracy: 0.7603 - val_loss: 0.6983 - val_categorical_accuracy: 0.7768\n",
      "Epoch 21/100\n",
      "743/742 [==============================] - 316s 426ms/step - loss: 0.6568 - categorical_accuracy: 0.7739 - val_loss: 1.0581 - val_categorical_accuracy: 0.6896\n",
      "Epoch 22/100\n",
      "743/742 [==============================] - 325s 438ms/step - loss: 0.6389 - categorical_accuracy: 0.7805 - val_loss: 0.6858 - val_categorical_accuracy: 0.7740\n",
      "Epoch 23/100\n",
      "743/742 [==============================] - 326s 439ms/step - loss: 0.6047 - categorical_accuracy: 0.7913 - val_loss: 0.6494 - val_categorical_accuracy: 0.7856\n",
      "Epoch 24/100\n",
      "743/742 [==============================] - 318s 428ms/step - loss: 0.5850 - categorical_accuracy: 0.7993 - val_loss: 0.6774 - val_categorical_accuracy: 0.7792\n",
      "Epoch 25/100\n",
      "743/742 [==============================] - 318s 428ms/step - loss: 0.5503 - categorical_accuracy: 0.8112 - val_loss: 0.7615 - val_categorical_accuracy: 0.7728\n",
      "Epoch 26/100\n",
      "743/742 [==============================] - 318s 428ms/step - loss: 0.5386 - categorical_accuracy: 0.8156 - val_loss: 0.6545 - val_categorical_accuracy: 0.7948\n",
      "Epoch 27/100\n",
      "743/742 [==============================] - 318s 428ms/step - loss: 0.5057 - categorical_accuracy: 0.8253 - val_loss: 0.7104 - val_categorical_accuracy: 0.7808\n",
      "Epoch 28/100\n",
      "743/742 [==============================] - 326s 439ms/step - loss: 0.4941 - categorical_accuracy: 0.8303 - val_loss: 0.6185 - val_categorical_accuracy: 0.8004\n",
      "Epoch 29/100\n",
      "743/742 [==============================] - 318s 428ms/step - loss: 0.4787 - categorical_accuracy: 0.8356 - val_loss: 0.7084 - val_categorical_accuracy: 0.7812\n",
      "Epoch 30/100\n",
      "743/742 [==============================] - 326s 439ms/step - loss: 0.4555 - categorical_accuracy: 0.8427 - val_loss: 0.5121 - val_categorical_accuracy: 0.8304\n",
      "Epoch 31/100\n",
      "743/742 [==============================] - 325s 438ms/step - loss: 0.4354 - categorical_accuracy: 0.8499 - val_loss: 0.4515 - val_categorical_accuracy: 0.8600\n",
      "Epoch 32/100\n",
      "743/742 [==============================] - 318s 427ms/step - loss: 0.4197 - categorical_accuracy: 0.8560 - val_loss: 0.5709 - val_categorical_accuracy: 0.8112\n",
      "Epoch 33/100\n",
      "743/742 [==============================] - 317s 426ms/step - loss: 0.4153 - categorical_accuracy: 0.8582 - val_loss: 0.5677 - val_categorical_accuracy: 0.8216\n",
      "Epoch 34/100\n",
      "743/742 [==============================] - 317s 426ms/step - loss: 0.3898 - categorical_accuracy: 0.8658 - val_loss: 0.4534 - val_categorical_accuracy: 0.8520\n",
      "Epoch 35/100\n",
      "743/742 [==============================] - 317s 427ms/step - loss: 0.3824 - categorical_accuracy: 0.8692 - val_loss: 0.4616 - val_categorical_accuracy: 0.8544\n",
      "Epoch 36/100\n",
      "743/742 [==============================] - 318s 428ms/step - loss: 0.3746 - categorical_accuracy: 0.8716 - val_loss: 0.4736 - val_categorical_accuracy: 0.8528\n",
      "Epoch 37/100\n",
      "743/742 [==============================] - 318s 427ms/step - loss: 0.3518 - categorical_accuracy: 0.8780 - val_loss: 0.5600 - val_categorical_accuracy: 0.8256\n",
      "Epoch 38/100\n",
      "743/742 [==============================] - 318s 428ms/step - loss: 0.3396 - categorical_accuracy: 0.8853 - val_loss: 0.6006 - val_categorical_accuracy: 0.8288\n",
      "Epoch 39/100\n",
      "743/742 [==============================] - 318s 428ms/step - loss: 0.3398 - categorical_accuracy: 0.8831 - val_loss: 0.5307 - val_categorical_accuracy: 0.8384\n",
      "Epoch 40/100\n",
      "743/742 [==============================] - 318s 428ms/step - loss: 0.3240 - categorical_accuracy: 0.8869 - val_loss: 0.6006 - val_categorical_accuracy: 0.8228\n",
      "Epoch 41/100\n",
      "743/742 [==============================] - ETA: 0s - loss: 0.3079 - categorical_accuracy: 0.8947\n",
      "Epoch 00041: ReduceLROnPlateau reducing learning rate to 1.9999999494757503e-05.\n",
      "743/742 [==============================] - 318s 428ms/step - loss: 0.3079 - categorical_accuracy: 0.8947 - val_loss: 0.6057 - val_categorical_accuracy: 0.8288\n",
      "Epoch 42/100\n",
      "743/742 [==============================] - 326s 439ms/step - loss: 0.1894 - categorical_accuracy: 0.9355 - val_loss: 0.3663 - val_categorical_accuracy: 0.8880\n",
      "Epoch 43/100\n",
      "743/742 [==============================] - 318s 428ms/step - loss: 0.1595 - categorical_accuracy: 0.9436 - val_loss: 0.3947 - val_categorical_accuracy: 0.8836\n",
      "Epoch 44/100\n",
      "743/742 [==============================] - 318s 428ms/step - loss: 0.1474 - categorical_accuracy: 0.9488 - val_loss: 0.3734 - val_categorical_accuracy: 0.8848\n",
      "Epoch 45/100\n",
      "743/742 [==============================] - 318s 428ms/step - loss: 0.1359 - categorical_accuracy: 0.9512 - val_loss: 0.3862 - val_categorical_accuracy: 0.8804\n",
      "Epoch 46/100\n",
      "743/742 [==============================] - 318s 428ms/step - loss: 0.1283 - categorical_accuracy: 0.9543 - val_loss: 0.4072 - val_categorical_accuracy: 0.8780\n",
      "Epoch 47/100\n",
      "743/742 [==============================] - 317s 427ms/step - loss: 0.1221 - categorical_accuracy: 0.9580 - val_loss: 0.3729 - val_categorical_accuracy: 0.8924\n",
      "Epoch 48/100\n",
      "743/742 [==============================] - 317s 426ms/step - loss: 0.1198 - categorical_accuracy: 0.9591 - val_loss: 0.4354 - val_categorical_accuracy: 0.8800\n",
      "Epoch 49/100\n",
      "743/742 [==============================] - 317s 426ms/step - loss: 0.1109 - categorical_accuracy: 0.9606 - val_loss: 0.3805 - val_categorical_accuracy: 0.8916\n",
      "Epoch 50/100\n",
      "743/742 [==============================] - 317s 426ms/step - loss: 0.1061 - categorical_accuracy: 0.9624 - val_loss: 0.4135 - val_categorical_accuracy: 0.8828\n",
      "Epoch 51/100\n",
      "743/742 [==============================] - 317s 427ms/step - loss: 0.1044 - categorical_accuracy: 0.9648 - val_loss: 0.4142 - val_categorical_accuracy: 0.8864\n",
      "Epoch 52/100\n",
      "743/742 [==============================] - 317s 427ms/step - loss: 0.0955 - categorical_accuracy: 0.9664 - val_loss: 0.4071 - val_categorical_accuracy: 0.8912\n",
      "Epoch 53/100\n",
      "743/742 [==============================] - 317s 427ms/step - loss: 0.0958 - categorical_accuracy: 0.9656 - val_loss: 0.4367 - val_categorical_accuracy: 0.8844\n",
      "Epoch 54/100\n",
      "743/742 [==============================] - 317s 427ms/step - loss: 0.0918 - categorical_accuracy: 0.9681 - val_loss: 0.3883 - val_categorical_accuracy: 0.8968\n",
      "Epoch 55/100\n",
      "743/742 [==============================] - 317s 426ms/step - loss: 0.0923 - categorical_accuracy: 0.9674 - val_loss: 0.4681 - val_categorical_accuracy: 0.8784\n",
      "Epoch 56/100\n",
      "743/742 [==============================] - 317s 427ms/step - loss: 0.0874 - categorical_accuracy: 0.9696 - val_loss: 0.3910 - val_categorical_accuracy: 0.8944\n",
      "Epoch 57/100\n",
      "743/742 [==============================] - 317s 427ms/step - loss: 0.0839 - categorical_accuracy: 0.9705 - val_loss: 0.4773 - val_categorical_accuracy: 0.8788\n",
      "Epoch 58/100\n",
      "743/742 [==============================] - 318s 428ms/step - loss: 0.0794 - categorical_accuracy: 0.9733 - val_loss: 0.4364 - val_categorical_accuracy: 0.8900\n",
      "Epoch 59/100\n",
      "743/742 [==============================] - 318s 428ms/step - loss: 0.0799 - categorical_accuracy: 0.9723 - val_loss: 0.4777 - val_categorical_accuracy: 0.8724\n",
      "Epoch 60/100\n",
      "743/742 [==============================] - 318s 428ms/step - loss: 0.0766 - categorical_accuracy: 0.9728 - val_loss: 0.4264 - val_categorical_accuracy: 0.8912\n",
      "Epoch 61/100\n",
      "743/742 [==============================] - 318s 428ms/step - loss: 0.0745 - categorical_accuracy: 0.9737 - val_loss: 0.4664 - val_categorical_accuracy: 0.8816\n",
      "Epoch 62/100\n",
      "743/742 [==============================] - 318s 428ms/step - loss: 0.0724 - categorical_accuracy: 0.9750 - val_loss: 0.4152 - val_categorical_accuracy: 0.8936\n",
      "Epoch 63/100\n",
      "743/742 [==============================] - 318s 428ms/step - loss: 0.0737 - categorical_accuracy: 0.9745 - val_loss: 0.4692 - val_categorical_accuracy: 0.8884\n",
      "Epoch 64/100\n",
      "743/742 [==============================] - ETA: 0s - loss: 0.0679 - categorical_accuracy: 0.9766\n",
      "Epoch 00064: ReduceLROnPlateau reducing learning rate to 3.999999898951501e-06.\n",
      "743/742 [==============================] - 318s 428ms/step - loss: 0.0679 - categorical_accuracy: 0.9766 - val_loss: 0.4879 - val_categorical_accuracy: 0.8780\n",
      "Epoch 65/100\n",
      "743/742 [==============================] - 318s 428ms/step - loss: 0.0553 - categorical_accuracy: 0.9809 - val_loss: 0.4205 - val_categorical_accuracy: 0.8968\n",
      "Epoch 66/100\n",
      "743/742 [==============================] - 318s 428ms/step - loss: 0.0502 - categorical_accuracy: 0.9824 - val_loss: 0.4099 - val_categorical_accuracy: 0.8968\n",
      "Epoch 67/100\n",
      "743/742 [==============================] - 317s 426ms/step - loss: 0.0482 - categorical_accuracy: 0.9834 - val_loss: 0.4225 - val_categorical_accuracy: 0.8956\n",
      "Epoch 68/100\n",
      "743/742 [==============================] - 317s 427ms/step - loss: 0.0440 - categorical_accuracy: 0.9850 - val_loss: 0.4059 - val_categorical_accuracy: 0.9048\n",
      "Epoch 69/100\n",
      "743/742 [==============================] - 317s 427ms/step - loss: 0.0448 - categorical_accuracy: 0.9849 - val_loss: 0.4055 - val_categorical_accuracy: 0.9020\n",
      "Epoch 70/100\n",
      "743/742 [==============================] - 317s 426ms/step - loss: 0.0454 - categorical_accuracy: 0.9844 - val_loss: 0.4103 - val_categorical_accuracy: 0.9016\n",
      "Epoch 71/100\n",
      "743/742 [==============================] - 317s 426ms/step - loss: 0.0447 - categorical_accuracy: 0.9848 - val_loss: 0.4126 - val_categorical_accuracy: 0.8988\n",
      "Epoch 72/100\n",
      "743/742 [==============================] - 318s 428ms/step - loss: 0.0401 - categorical_accuracy: 0.9865 - val_loss: 0.4416 - val_categorical_accuracy: 0.8944\n",
      "Epoch 73/100\n",
      "743/742 [==============================] - 317s 427ms/step - loss: 0.0412 - categorical_accuracy: 0.9860 - val_loss: 0.4296 - val_categorical_accuracy: 0.8948\n",
      "Epoch 74/100\n",
      "743/742 [==============================] - 318s 428ms/step - loss: 0.0395 - categorical_accuracy: 0.9868 - val_loss: 0.4239 - val_categorical_accuracy: 0.8992\n",
      "Epoch 75/100\n",
      "743/742 [==============================] - 318s 428ms/step - loss: 0.0390 - categorical_accuracy: 0.9869 - val_loss: 0.4207 - val_categorical_accuracy: 0.8996\n",
      "Epoch 76/100\n",
      "743/742 [==============================] - 319s 429ms/step - loss: 0.0387 - categorical_accuracy: 0.9868 - val_loss: 0.4182 - val_categorical_accuracy: 0.9012\n",
      "Epoch 77/100\n",
      "743/742 [==============================] - 319s 429ms/step - loss: 0.0366 - categorical_accuracy: 0.9875 - val_loss: 0.4178 - val_categorical_accuracy: 0.9028\n",
      "Epoch 78/100\n",
      "743/742 [==============================] - ETA: 0s - loss: 0.0367 - categorical_accuracy: 0.9876\n",
      "Epoch 00078: ReduceLROnPlateau reducing learning rate to 7.999999979801942e-07.\n",
      "743/742 [==============================] - 319s 429ms/step - loss: 0.0367 - categorical_accuracy: 0.9876 - val_loss: 0.4361 - val_categorical_accuracy: 0.8996\n",
      "Epoch 79/100\n",
      "743/742 [==============================] - 319s 429ms/step - loss: 0.0367 - categorical_accuracy: 0.9872 - val_loss: 0.4232 - val_categorical_accuracy: 0.9016\n",
      "Epoch 80/100\n",
      "743/742 [==============================] - 319s 429ms/step - loss: 0.0359 - categorical_accuracy: 0.9874 - val_loss: 0.4204 - val_categorical_accuracy: 0.9012\n",
      "Epoch 81/100\n",
      "743/742 [==============================] - 317s 427ms/step - loss: 0.0343 - categorical_accuracy: 0.9885 - val_loss: 0.4251 - val_categorical_accuracy: 0.8984\n",
      "Epoch 82/100\n",
      "743/742 [==============================] - 317s 426ms/step - loss: 0.0330 - categorical_accuracy: 0.9893 - val_loss: 0.4248 - val_categorical_accuracy: 0.8992\n",
      "Epoch 83/100\n",
      "743/742 [==============================] - 317s 426ms/step - loss: 0.0349 - categorical_accuracy: 0.9879 - val_loss: 0.4184 - val_categorical_accuracy: 0.9016\n",
      "Epoch 84/100\n",
      "743/742 [==============================] - 317s 426ms/step - loss: 0.0346 - categorical_accuracy: 0.9885 - val_loss: 0.4262 - val_categorical_accuracy: 0.8992\n",
      "Epoch 85/100\n",
      "743/742 [==============================] - 316s 426ms/step - loss: 0.0330 - categorical_accuracy: 0.9893 - val_loss: 0.4280 - val_categorical_accuracy: 0.9004\n",
      "Epoch 86/100\n",
      "743/742 [==============================] - 317s 426ms/step - loss: 0.0337 - categorical_accuracy: 0.9881 - val_loss: 0.4272 - val_categorical_accuracy: 0.9012\n",
      "Epoch 87/100\n",
      "743/742 [==============================] - 317s 426ms/step - loss: 0.0329 - categorical_accuracy: 0.9886 - val_loss: 0.4231 - val_categorical_accuracy: 0.9028\n",
      "Epoch 88/100\n",
      "743/742 [==============================] - ETA: 0s - loss: 0.0351 - categorical_accuracy: 0.9879\n",
      "Epoch 00088: ReduceLROnPlateau reducing learning rate to 1.600000018697756e-07.\n",
      "743/742 [==============================] - 317s 426ms/step - loss: 0.0351 - categorical_accuracy: 0.9879 - val_loss: 0.4225 - val_categorical_accuracy: 0.9016\n",
      "Epoch 89/100\n",
      "743/742 [==============================] - 317s 426ms/step - loss: 0.0330 - categorical_accuracy: 0.9890 - val_loss: 0.4239 - val_categorical_accuracy: 0.9012\n",
      "Epoch 90/100\n",
      "743/742 [==============================] - 317s 426ms/step - loss: 0.0330 - categorical_accuracy: 0.9885 - val_loss: 0.4243 - val_categorical_accuracy: 0.9016\n",
      "Epoch 91/100\n",
      "743/742 [==============================] - 317s 427ms/step - loss: 0.0335 - categorical_accuracy: 0.9887 - val_loss: 0.4230 - val_categorical_accuracy: 0.9016\n",
      "Epoch 92/100\n",
      "743/742 [==============================] - 317s 427ms/step - loss: 0.0313 - categorical_accuracy: 0.9887 - val_loss: 0.4222 - val_categorical_accuracy: 0.9028\n",
      "Epoch 93/100\n",
      "743/742 [==============================] - 317s 427ms/step - loss: 0.0307 - categorical_accuracy: 0.9896 - val_loss: 0.4218 - val_categorical_accuracy: 0.9024\n",
      "Epoch 94/100\n",
      "743/742 [==============================] - 317s 426ms/step - loss: 0.0320 - categorical_accuracy: 0.9890 - val_loss: 0.4230 - val_categorical_accuracy: 0.9024\n",
      "Epoch 95/100\n",
      "743/742 [==============================] - 317s 426ms/step - loss: 0.0324 - categorical_accuracy: 0.9891 - val_loss: 0.4200 - val_categorical_accuracy: 0.9028\n",
      "Epoch 96/100\n",
      "743/742 [==============================] - 317s 427ms/step - loss: 0.0333 - categorical_accuracy: 0.9889 - val_loss: 0.4214 - val_categorical_accuracy: 0.9024\n",
      "Epoch 97/100\n",
      "743/742 [==============================] - 317s 427ms/step - loss: 0.0334 - categorical_accuracy: 0.9887 - val_loss: 0.4224 - val_categorical_accuracy: 0.9016\n",
      "Epoch 98/100\n",
      "743/742 [==============================] - ETA: 0s - loss: 0.0315 - categorical_accuracy: 0.9893\n",
      "Epoch 00098: ReduceLROnPlateau reducing learning rate to 3.199999980552093e-08.\n",
      "743/742 [==============================] - 318s 428ms/step - loss: 0.0315 - categorical_accuracy: 0.9893 - val_loss: 0.4225 - val_categorical_accuracy: 0.9020\n",
      "Epoch 99/100\n",
      "743/742 [==============================] - 318s 428ms/step - loss: 0.0326 - categorical_accuracy: 0.9887 - val_loss: 0.4221 - val_categorical_accuracy: 0.9024\n",
      "Epoch 100/100\n",
      "743/742 [==============================] - 318s 428ms/step - loss: 0.0305 - categorical_accuracy: 0.9899 - val_loss: 0.4233 - val_categorical_accuracy: 0.9020\n"
     ]
    }
   ],
   "source": [
    "lrSchedule = ReduceLROnPlateau(monitor='val_categorical_accuracy', factor=0.2, patience=10, verbose=1)\n",
    "checkpoint = ModelCheckpoint(\"./saved_weights/attention128_weights.hdf5\",\n",
    "                             monitor='val_loss', verbose = 0, save_best_only = True,\n",
    "                             mode='auto', sav_freq = 'epoch')\n",
    "model128.compile(optimizer=Adam(learning_rate=1e-4),metrics=\"categorical_accuracy\",loss=\"categorical_crossentropy\")\n",
    "\n",
    "train_datagen = ImageDataGenerator(\n",
    "    rescale=1./255,\n",
    "    rotation_range=15,\n",
    "    horizontal_flip=True,\n",
    "    brightness_range=[0.7,1.3],\n",
    "    width_shift_range=0.1,\n",
    "    height_shift_range=0.1,\n",
    "    zoom_range=0.1\n",
    ")\n",
    "vali_datagen = ImageDataGenerator(rescale=1./255)\n",
    "test_datagen = ImageDataGenerator(rescale=1./255)\n",
    "\n",
    "training_hist = model128.fit(\n",
    "    train_datagen.flow(x_train_10, y_train_10, batch_size=64, shuffle=True),\n",
    "    callbacks = [checkpoint,lrSchedule],\n",
    "    validation_data = vali_datagen.flow(x_vali_10, y_vali_10, shuffle=False, batch_size=64),\n",
    "    steps_per_epoch=len(x_train_10) / 64, epochs=100,\n",
    "    verbose=1)"
   ]
  },
  {
   "cell_type": "code",
   "execution_count": 11,
   "metadata": {},
   "outputs": [],
   "source": [
    "pd.DataFrame(training_hist.history).to_csv(\"./saved_hists/attention128-cifar10-hist.csv\", index = False)\n",
    "model128.load_weights(\"./saved_weights/attention128_weights.hdf5\")\n",
    "model128.save(\"./saved_models/attention128\")"
   ]
  },
  {
   "cell_type": "code",
   "execution_count": 14,
   "metadata": {},
   "outputs": [
    {
     "name": "stdout",
     "output_type": "stream",
     "text": [
      "10/10 [==============================] - 16s 2s/step - loss: 0.3800 - categorical_accuracy: 0.8777\n"
     ]
    },
    {
     "data": {
      "text/plain": [
       "[0.37997591495513916, 0.8776999711990356]"
      ]
     },
     "execution_count": 14,
     "metadata": {},
     "output_type": "execute_result"
    }
   ],
   "source": [
    "test_datagen = ImageDataGenerator(rescale=1./255)\n",
    "\n",
    "model128.evaluate(\n",
    "    test_datagen.flow(x_test_10, y_test_10, batch_size=1000))"
   ]
  },
  {
   "cell_type": "code",
   "execution_count": 2,
   "metadata": {},
   "outputs": [
    {
     "data": {
      "image/png": "[encoded data removed]",
      "text/plain": [
       "<Figure size 720x360 with 2 Axes>"
      ]
     },
     "metadata": {
      "needs_background": "light"
     },
     "output_type": "display_data"
    }
   ],
   "source": [
    "plot_training_hist(pd.read_csv(\"./saved_hists/attention128-cifar10-hist.csv\"))"
   ]
  },
  {
   "cell_type": "code",
   "execution_count": null,
   "metadata": {},
   "outputs": [],
   "source": []
  }
 ],
 "metadata": {
  "environment": {
   "name": "tf2-2-3-gpu.2-3.m59",
   "type": "gcloud",
   "uri": "gcr.io/deeplearning-platform-release/tf2-2-3-gpu.2-3:m59"
  },
  "kernelspec": {
   "display_name": "Python 3",
   "language": "python",
   "name": "python3"
  },
  "language_info": {
   "codemirror_mode": {
    "name": "ipython",
    "version": 3
   },
   "file_extension": ".py",
   "mimetype": "text/x-python",
   "name": "python",
   "nbconvert_exporter": "python",
   "pygments_lexer": "ipython3",
   "version": "3.7.7"
  }
 },
 "nbformat": 4,
 "nbformat_minor": 4
}
